{
 "cells": [
  {
   "cell_type": "code",
   "execution_count": 2,
   "id": "2f6b42c1",
   "metadata": {},
   "outputs": [
    {
     "name": "stdout",
     "output_type": "stream",
     "text": [
      "Gowtham\n"
     ]
    }
   ],
   "source": [
    "print(\"Gowtham\")"
   ]
  },
  {
   "cell_type": "code",
   "execution_count": 19,
   "id": "686ad991",
   "metadata": {},
   "outputs": [
    {
     "name": "stdout",
     "output_type": "stream",
     "text": [
      "***********************************\n",
      "**********************************\n",
      "*********************************\n",
      "********************************\n",
      "*******************************\n",
      "******************************\n",
      "*****************************\n",
      "****************************\n",
      "***************************\n",
      "**************************\n",
      "*************************\n",
      "************************\n",
      "***********************\n",
      "**********************\n",
      "*********************\n",
      "********************\n",
      "*******************\n",
      "******************\n",
      "*****************\n",
      "****************\n",
      "***************\n",
      "**************\n",
      "*************\n",
      "************\n",
      "***********\n",
      "**********\n",
      "*********\n",
      "********\n",
      "*******     G\n",
      "******      O\n",
      "*****       W\n",
      "****        T\n",
      "***         H\n",
      "**          A\n",
      "*           M\n"
     ]
    }
   ],
   "source": [
    "print(\"*\"*35) \n",
    "print(\"*\"*34)\n",
    "print(\"*\"*33)\n",
    "print(\"*\"*32)\n",
    "print(\"*\"*31)\n",
    "print(\"*\"*30)\n",
    "print(\"*\"*29)\n",
    "print(\"*\"*28)\n",
    "print(\"*\"*27)\n",
    "print(\"*\"*26)\n",
    "print(\"*\"*25)\n",
    "print(\"*\"*24)\n",
    "print(\"*\"*23)\n",
    "print(\"*\"*22)\n",
    "print(\"*\"*21)\n",
    "print(\"*\"*20)\n",
    "print(\"*\"*19)\n",
    "print(\"*\"*18)\n",
    "print(\"*\"*17)\n",
    "print(\"*\"*16) \n",
    "print(\"*\"*15)\n",
    "print(\"*\"*14) \n",
    "print(\"*\"*13)\n",
    "print(\"*\"*12)\n",
    "print(\"*\"*11)\n",
    "print(\"*\"*10)\n",
    "print(\"*\"*9)\n",
    "print(\"*\"*8)\n",
    "print(\"*\"*7,\"    G\")\n",
    "print(\"*\"*6 ,\"     O\")\n",
    "print(\"*\"*5, \"      W\")\n",
    "print(\"*\"*4,\"       T\")\n",
    "print(\"*\"*3,\"        H\")\n",
    "print(\"*\"*2,\"         A\")\n",
    "print(\"*\"*1,\"          M\")\n",
    "\n"
   ]
  },
  {
   "cell_type": "code",
   "execution_count": null,
   "id": "04269e0b",
   "metadata": {},
   "outputs": [],
   "source": []
  }
 ],
 "metadata": {
  "kernelspec": {
   "display_name": "Python 3 (ipykernel)",
   "language": "python",
   "name": "python3"
  },
  "language_info": {
   "codemirror_mode": {
    "name": "ipython",
    "version": 3
   },
   "file_extension": ".py",
   "mimetype": "text/x-python",
   "name": "python",
   "nbconvert_exporter": "python",
   "pygments_lexer": "ipython3",
   "version": "3.11.5"
  }
 },
 "nbformat": 4,
 "nbformat_minor": 5
}
